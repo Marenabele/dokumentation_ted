{
 "cells": [
  {
   "cell_type": "markdown",
   "metadata": {},
   "source": [
    "### Hier Dokumentiert, was in den einzelnen Schritten gemacht wird. Einzelne Abschnitte werden mit Markdown kommentiert, damit es übersichtlicher wird. \n",
    "Die restliche Dokumentation wird über Kommentare in den Codeblöcken gemacht. \n",
    "Die angegbenen Links sind Quellen aus denen ich Codes teilweise übernommen oder die als inspiration gedient haben."
   ]
  },
  {
   "cell_type": "code",
   "execution_count": 6,
   "metadata": {},
   "outputs": [],
   "source": [
    "#https://python-pptx.readthedocs.io/en/latest/user/quickstart.html\n",
    "from pptx import Presentation\n",
    "from pptx.util import Inches\n",
    "from pptx.util import Cm\n",
    "#Maße PPTX Folien WIDTH=960 x HEIGHT=720 Pixel. in Inches = WIDTH=10 x HEIGHT=7.5 WIDTH= 8,13cm x HEIGHT=6,10cm\n",
    "\n",
    "img_path = \"report_head_ppx.png\"\n",
    "\n",
    "prs = Presentation()\n",
    "title_slide_layout = prs.slide_layouts[0]\n",
    "slide = prs.slides.add_slide(title_slide_layout)\n",
    "title = slide.shapes.title\n",
    "subtitle = slide.placeholders[1]\n",
    "title.text = \"TED Talk Explorer - Report\"\n",
    "subtitle.text = \"In diesem Report werden die Ergebnisse der Datenauswertung detaillierter dargestellt.\"\n"
   ]
  }
 ],
 "metadata": {
  "kernelspec": {
   "display_name": "Python 3.9.7 ('data-storytelling')",
   "language": "python",
   "name": "python3"
  },
  "language_info": {
   "codemirror_mode": {
    "name": "ipython",
    "version": 3
   },
   "file_extension": ".py",
   "mimetype": "text/x-python",
   "name": "python",
   "nbconvert_exporter": "python",
   "pygments_lexer": "ipython3",
   "version": "3.9.7"
  },
  "orig_nbformat": 4,
  "vscode": {
   "interpreter": {
    "hash": "a4cdc0e257683005a9d8b36a8a403e756a8b86fc086352c8beaa713fd074d488"
   }
  }
 },
 "nbformat": 4,
 "nbformat_minor": 2
}
