{
 "cells": [
  {
   "cell_type": "markdown",
   "metadata": {},
   "source": [
    "### Hier Dokumentiert, was in den einzelnen Schritten gemacht wird. \n",
    "Die restliche Dokumentation wird über Kommentare in den Codeblöcken gemacht. \n",
    "Die Codes der Analyse werden aus der \"Ted-Talks.ipynb-Datei\" kopiert"
   ]
  },
  {
   "cell_type": "code",
   "execution_count": 9,
   "metadata": {},
   "outputs": [
    {
     "data": {
      "text/html": [
       "<div>\n",
       "<style scoped>\n",
       "    .dataframe tbody tr th:only-of-type {\n",
       "        vertical-align: middle;\n",
       "    }\n",
       "\n",
       "    .dataframe tbody tr th {\n",
       "        vertical-align: top;\n",
       "    }\n",
       "\n",
       "    .dataframe thead th {\n",
       "        text-align: right;\n",
       "    }\n",
       "</style>\n",
       "<table border=\"1\" class=\"dataframe\">\n",
       "  <thead>\n",
       "    <tr style=\"text-align: right;\">\n",
       "      <th></th>\n",
       "      <th>title</th>\n",
       "      <th>author</th>\n",
       "      <th>date</th>\n",
       "      <th>views</th>\n",
       "      <th>likes</th>\n",
       "      <th>link</th>\n",
       "    </tr>\n",
       "  </thead>\n",
       "  <tbody>\n",
       "    <tr>\n",
       "      <th>0</th>\n",
       "      <td>Climate action needs new frontline leadership</td>\n",
       "      <td>Ozawa Bineshi Albert</td>\n",
       "      <td>December 2021</td>\n",
       "      <td>404000</td>\n",
       "      <td>12000</td>\n",
       "      <td>https://ted.com/talks/ozawa_bineshi_albert_cli...</td>\n",
       "    </tr>\n",
       "    <tr>\n",
       "      <th>1</th>\n",
       "      <td>The dark history of the overthrow of Hawaii</td>\n",
       "      <td>Sydney Iaukea</td>\n",
       "      <td>February 2022</td>\n",
       "      <td>214000</td>\n",
       "      <td>6400</td>\n",
       "      <td>https://ted.com/talks/sydney_iaukea_the_dark_h...</td>\n",
       "    </tr>\n",
       "    <tr>\n",
       "      <th>2</th>\n",
       "      <td>How play can spark new ideas for your business</td>\n",
       "      <td>Martin Reeves</td>\n",
       "      <td>September 2021</td>\n",
       "      <td>412000</td>\n",
       "      <td>12000</td>\n",
       "      <td>https://ted.com/talks/martin_reeves_how_play_c...</td>\n",
       "    </tr>\n",
       "    <tr>\n",
       "      <th>3</th>\n",
       "      <td>Why is China appointing judges to combat clima...</td>\n",
       "      <td>James K. Thornton</td>\n",
       "      <td>October 2021</td>\n",
       "      <td>427000</td>\n",
       "      <td>12000</td>\n",
       "      <td>https://ted.com/talks/james_k_thornton_why_is_...</td>\n",
       "    </tr>\n",
       "    <tr>\n",
       "      <th>4</th>\n",
       "      <td>Cement's carbon problem — and 2 ways to fix it</td>\n",
       "      <td>Mahendra Singhi</td>\n",
       "      <td>October 2021</td>\n",
       "      <td>2400</td>\n",
       "      <td>72</td>\n",
       "      <td>https://ted.com/talks/mahendra_singhi_cement_s...</td>\n",
       "    </tr>\n",
       "    <tr>\n",
       "      <th>...</th>\n",
       "      <td>...</td>\n",
       "      <td>...</td>\n",
       "      <td>...</td>\n",
       "      <td>...</td>\n",
       "      <td>...</td>\n",
       "      <td>...</td>\n",
       "    </tr>\n",
       "    <tr>\n",
       "      <th>5435</th>\n",
       "      <td>The best stats you've ever seen</td>\n",
       "      <td>Hans Rosling</td>\n",
       "      <td>February 2006</td>\n",
       "      <td>15000000</td>\n",
       "      <td>458000</td>\n",
       "      <td>https://ted.com/talks/hans_rosling_the_best_st...</td>\n",
       "    </tr>\n",
       "    <tr>\n",
       "      <th>5436</th>\n",
       "      <td>Do schools kill creativity?</td>\n",
       "      <td>Sir Ken Robinson</td>\n",
       "      <td>February 2006</td>\n",
       "      <td>72000000</td>\n",
       "      <td>2100000</td>\n",
       "      <td>https://ted.com/talks/sir_ken_robinson_do_scho...</td>\n",
       "    </tr>\n",
       "    <tr>\n",
       "      <th>5437</th>\n",
       "      <td>Greening the ghetto</td>\n",
       "      <td>Majora Carter</td>\n",
       "      <td>February 2006</td>\n",
       "      <td>2900000</td>\n",
       "      <td>88000</td>\n",
       "      <td>https://ted.com/talks/majora_carter_greening_t...</td>\n",
       "    </tr>\n",
       "    <tr>\n",
       "      <th>5438</th>\n",
       "      <td>Simplicity sells</td>\n",
       "      <td>David Pogue</td>\n",
       "      <td>February 2006</td>\n",
       "      <td>2000000</td>\n",
       "      <td>60000</td>\n",
       "      <td>https://ted.com/talks/david_pogue_simplicity_s...</td>\n",
       "    </tr>\n",
       "    <tr>\n",
       "      <th>5439</th>\n",
       "      <td>Averting the climate crisis</td>\n",
       "      <td>Al Gore</td>\n",
       "      <td>February 2006</td>\n",
       "      <td>3600000</td>\n",
       "      <td>109000</td>\n",
       "      <td>https://ted.com/talks/al_gore_averting_the_cli...</td>\n",
       "    </tr>\n",
       "  </tbody>\n",
       "</table>\n",
       "<p>5440 rows × 6 columns</p>\n",
       "</div>"
      ],
      "text/plain": [
       "                                                  title                author  \\\n",
       "0         Climate action needs new frontline leadership  Ozawa Bineshi Albert   \n",
       "1           The dark history of the overthrow of Hawaii         Sydney Iaukea   \n",
       "2        How play can spark new ideas for your business         Martin Reeves   \n",
       "3     Why is China appointing judges to combat clima...     James K. Thornton   \n",
       "4        Cement's carbon problem — and 2 ways to fix it       Mahendra Singhi   \n",
       "...                                                 ...                   ...   \n",
       "5435                    The best stats you've ever seen          Hans Rosling   \n",
       "5436                        Do schools kill creativity?      Sir Ken Robinson   \n",
       "5437                                Greening the ghetto         Majora Carter   \n",
       "5438                                   Simplicity sells           David Pogue   \n",
       "5439                        Averting the climate crisis               Al Gore   \n",
       "\n",
       "                date     views    likes  \\\n",
       "0      December 2021    404000    12000   \n",
       "1      February 2022    214000     6400   \n",
       "2     September 2021    412000    12000   \n",
       "3       October 2021    427000    12000   \n",
       "4       October 2021      2400       72   \n",
       "...              ...       ...      ...   \n",
       "5435   February 2006  15000000   458000   \n",
       "5436   February 2006  72000000  2100000   \n",
       "5437   February 2006   2900000    88000   \n",
       "5438   February 2006   2000000    60000   \n",
       "5439   February 2006   3600000   109000   \n",
       "\n",
       "                                                   link  \n",
       "0     https://ted.com/talks/ozawa_bineshi_albert_cli...  \n",
       "1     https://ted.com/talks/sydney_iaukea_the_dark_h...  \n",
       "2     https://ted.com/talks/martin_reeves_how_play_c...  \n",
       "3     https://ted.com/talks/james_k_thornton_why_is_...  \n",
       "4     https://ted.com/talks/mahendra_singhi_cement_s...  \n",
       "...                                                 ...  \n",
       "5435  https://ted.com/talks/hans_rosling_the_best_st...  \n",
       "5436  https://ted.com/talks/sir_ken_robinson_do_scho...  \n",
       "5437  https://ted.com/talks/majora_carter_greening_t...  \n",
       "5438  https://ted.com/talks/david_pogue_simplicity_s...  \n",
       "5439  https://ted.com/talks/al_gore_averting_the_cli...  \n",
       "\n",
       "[5440 rows x 6 columns]"
      ]
     },
     "execution_count": 9,
     "metadata": {},
     "output_type": "execute_result"
    }
   ],
   "source": [
    "#Die Libraries die gebraucht werden, werden importiert.\n",
    "import pandas as pd\n",
    "import numpy as np\n",
    "import matplotlib.pyplot as plt\n",
    "import spacy as spacy\n",
    "from collections import Counter\n",
    "import xlwings as xw\n",
    "from xlwings import Picture\n",
    "#Der Datensatz wird als Variable df aus der CSV importiert. \n",
    "#In diesem Datensatz werden die Inhalte mit einem Kommata getrennt. \n",
    "df = pd.read_csv(\"/Users/marenabele/Desktop/Data-Storytelling_2.0/Data/ted-talks.csv\", sep =\",\")\n",
    "df"
   ]
  },
  {
   "cell_type": "markdown",
   "metadata": {},
   "source": [
    "##### Erster Tab mit dem origianelen Dataframe"
   ]
  },
  {
   "cell_type": "code",
   "execution_count": 4,
   "metadata": {},
   "outputs": [],
   "source": [
    "#Neue Excel-Datei erstellen \n",
    "#Datei Speichern \n",
    "#book.save(\"/Users/marenabele/Desktop/Data-Storytelling_2.0/Data/Excel_Export.xlsx\")\n",
    "\n",
    "book = xw.Book(\"Excel_Export.xlsx\")\n",
    "\n",
    "#Neuen Tabs in der Datei erstellen. Zugriff auf die Tabs via Namen\n",
    "sheet1 = book.sheets[\"Kompletter Datensatz\"]\n",
    "sheet2 = book.sheets[\"Häufigkeit Autoren\"]\n",
    "sheet3 = book.sheets[\"Häufigkeit Jahre\"]\n",
    "sheet4 = book.sheets[\"Häufigkeit Monat und Jahr\"]\n",
    "sheet5 = book.sheets[\"Autoren Likes\"]\n",
    "sheet6 = book.sheets[\"Autoren Views\"]\n",
    "sheet7 = book.sheets[\"Talks nach Likes\"]\n",
    "sheet8 = book.sheets[\"Talks nach View\"]\n",
    "sheet9 = book.sheets[\"Keywords\"]\n",
    "\n",
    "#Allgemeinen Datensatz importieren\n",
    "df_start = pd.read_csv(\"/Users/marenabele/Desktop/Data-Storytelling_2.0/Data/ted-talks.csv\", sep =\",\")\n",
    "df_start\n",
    "\n",
    "#Tab eins mit dem allgemeinen Datensatz füllen\n",
    "sheet1[\"A1\"].value = df_start\n"
   ]
  },
  {
   "cell_type": "markdown",
   "metadata": {},
   "source": [
    "##### 2. Tab mit der Häufigkeiten der Autoren"
   ]
  },
  {
   "cell_type": "code",
   "execution_count": 5,
   "metadata": {},
   "outputs": [],
   "source": [
    "df_common_author = df.value_counts(\"author\", ascending = False).to_frame(name=\"Anzahl der Videos\")\n",
    "\n",
    "#Tab 2 mit der Liste an Autren füllen\n",
    "sheet2[\"A1\"].value = df_common_author"
   ]
  },
  {
   "cell_type": "markdown",
   "metadata": {},
   "source": [
    "##### 3. Tab mit den Videos pro Jahr"
   ]
  },
  {
   "cell_type": "code",
   "execution_count": 15,
   "metadata": {},
   "outputs": [
    {
     "data": {
      "text/plain": [
       "<Picture 'Picture 6' in <Sheet [Excel_Export.xlsx]Häufigkeit Jahre>>"
      ]
     },
     "execution_count": 15,
     "metadata": {},
     "output_type": "execute_result"
    }
   ],
   "source": [
    "#Datums-Spalte konvertieren und die Jahre zählen\n",
    "from datetime import datetime, timedelta\n",
    "df[\"date\"] = pd.to_datetime(df[\"date\"])\n",
    "\n",
    "df[\"year\"]= df[\"date\"].dt.year\n",
    "df[\"month\"]= df[\"date\"].dt.month\n",
    "\n",
    "df_year = df\n",
    "\n",
    "df_count_years = df_year.value_counts(\"year\", ascending = False).to_frame(name= \"Videos pro Jahr\")\n",
    "\n",
    "#Tab 3 mit der Liste an Jahren und Häufigkeiten füllen\n",
    "sheet3[\"A1\"].value = df_count_years\n",
    "\n",
    "#Grafik hinzufügen\n",
    "#https://docs.xlwings.org/en/stable/api.html#xlwings.main.Pictures.add\n",
    "sheet3.pictures.add(r\"/Users/marenabele/Desktop/Data-Storytelling_2.0/Data/Grafiken/Verteilung_allerVideos.png\", top=rng.top, left=rng.left)\n",
    "\n"
   ]
  },
  {
   "cell_type": "markdown",
   "metadata": {},
   "source": [
    "##### 4. Tab mit den Videos pro Monat und Jahr"
   ]
  },
  {
   "cell_type": "code",
   "execution_count": 23,
   "metadata": {},
   "outputs": [
    {
     "data": {
      "text/plain": [
       "<Picture 'Picture 56' in <Sheet [Excel_Export.xlsx]Häufigkeit Monat und Jahr>>"
      ]
     },
     "execution_count": 23,
     "metadata": {},
     "output_type": "execute_result"
    }
   ],
   "source": [
    "#Zählen der Monate und Jahre\n",
    "df_count_month_and_year = df.value_counts(\"date\", ascending = False).to_frame(name=\"Anzahl der Videos\")\n",
    "\n",
    "#Grafik hinzufügen\n",
    "#https://docs.xlwings.org/en/stable/api.html#xlwings.main.Pictures.add\n",
    "rng = book.sheets[\"Häufigkeit Monat und Jahr\"].range(\"A204\")\n",
    "\n",
    "#Tab 4 mit der Liste füllen und die Grafiken ergänzen\n",
    "sheet4[\"A1\"].value = df_count_month_and_year\n",
    "sheet4.pictures.add(r\"/Users/marenabele/Desktop/Data-Storytelling_2.0/Data/Grafiken/2017_Monate.png\", top=rng.top, left=rng.left)\n",
    "\n",
    "rng= book.sheets[\"Häufigkeit Monat und Jahr\"].range(\"G204\")\n",
    "sheet4.pictures.add(r\"/Users/marenabele/Desktop/Data-Storytelling_2.0/Data/Grafiken/Monat_2018.png\", top=rng.top, left=rng.left)\n",
    "rng= book.sheets[\"Häufigkeit Monat und Jahr\"].range(\"A217\")\n",
    "sheet4.pictures.add(r\"/Users/marenabele/Desktop/Data-Storytelling_2.0/Data/Grafiken/Monat_2019.png\", top=rng.top, left=rng.left)\n",
    "rng= book.sheets[\"Häufigkeit Monat und Jahr\"].range(\"G217\")\n",
    "sheet4.pictures.add(r\"/Users/marenabele/Desktop/Data-Storytelling_2.0/Data/Grafiken/Monat_2020.png\", top=rng.top, left=rng.left)\n",
    "rng= book.sheets[\"Häufigkeit Monat und Jahr\"].range(\"A230\")\n",
    "sheet4.pictures.add(r\"/Users/marenabele/Desktop/Data-Storytelling_2.0/Data/Grafiken/Monat_2021.png\", top=rng.top, left=rng.left)\n"
   ]
  },
  {
   "cell_type": "markdown",
   "metadata": {},
   "source": [
    "##### 5. Tab 8 Häufigsten Autoren und die durchschnittlichen Likes"
   ]
  },
  {
   "cell_type": "code",
   "execution_count": 29,
   "metadata": {},
   "outputs": [
    {
     "data": {
      "text/plain": [
       "<Picture 'Picture 2' in <Sheet [Excel_Export.xlsx]Autoren Likes>>"
      ]
     },
     "execution_count": 29,
     "metadata": {},
     "output_type": "execute_result"
    }
   ],
   "source": [
    "mask = (df[\"author\"] == \"Alex Gendler\") | (df[\"author\"] == \"Iseult Gillespie\") | (df[\"author\"] == \"Matt Walker\t\") | (df[\"author\"] == \"Alex Rosenthal\") | (df[\"author\"] == \"Elizabeth Cox\") | (df[\"author\"] == \"Emma Bryce\") | (df[\"author\"] == \"Daniel Finkel\") | (df[\"author\"] == \"Juan Enriquez\") \n",
    "df_author_likes = df[mask]\n",
    "\n",
    "top_8_autoren = [\"Alex Gendler\", \"Iseult Gillespie\", \"Matt Walker\", \"Alex Rosenthal\", \"Elizabeth Cox\", \"Emma Bryce\",\n",
    "                 \"Daniel Finkel\", \"Juan Enriquez\"]\n",
    "\n",
    "author_agg = dict()\n",
    "\n",
    "for author in top_8_autoren:\n",
    "    mask = df[\"author\"] == author\n",
    "    author_agg[author] = df[mask][\"likes\"].mean().__round__()\n",
    "author_agg\n",
    "\n",
    "#https://stackoverflow.com/questions/20340844/pandas-create-named-columns-in-dataframe-from-dict\n",
    "\n",
    "df_top8_likes = pd.DataFrame(list(author_agg.items()),\n",
    "                      columns=[\"Autor\", \"Durchschnittliche Likes\"])\n",
    "\n",
    "#df_top8_likes = pd.DataFrame.from_dict(author_agg, orient=\"index\")\n",
    "df_top8_likes\n",
    "\n",
    "rng = book.sheets[\"Autoren Likes\"].range(\"A12\")\n",
    "#Tab 5 mit Liste füllen\n",
    "sheet5[\"A1\"].value = df_top8_likes\n",
    "\n",
    "#Grafik hinzufügen\n",
    "#https://docs.xlwings.org/en/stable/api.html#xlwings.main.Pictures.add\n",
    "sheet5.pictures.add(r\"/Users/marenabele/Desktop/Data-Storytelling_2.0/Data/Grafiken/Autoren_Likes.png\", top=rng.top, left=rng.left)\n"
   ]
  },
  {
   "cell_type": "markdown",
   "metadata": {},
   "source": [
    "##### 6. Tab 8 Häufigsten Autoren und die durchschnittlichen Views"
   ]
  },
  {
   "cell_type": "code",
   "execution_count": 30,
   "metadata": {},
   "outputs": [
    {
     "data": {
      "text/plain": [
       "<Picture 'Picture 2' in <Sheet [Excel_Export.xlsx]Autoren Views>>"
      ]
     },
     "execution_count": 30,
     "metadata": {},
     "output_type": "execute_result"
    }
   ],
   "source": [
    "mask = (df[\"author\"] == \"Alex Gendler\") | (df[\"author\"] == \"Iseult Gillespie\") | (df[\"author\"] == \"Matt Walker\t\") | (df[\"author\"] == \"Alex Rosenthal\") | (df[\"author\"] == \"Elizabeth Cox\") | (df[\"author\"] == \"Emma Bryce\") | (df[\"author\"] == \"Daniel Finkel\") | (df[\"author\"] == \"Juan Enriquez\") \n",
    "df_author_views = df[mask]\n",
    "\n",
    "top_8_autoren = [\"Alex Gendler\", \"Iseult Gillespie\", \"Matt Walker\", \"Alex Rosenthal\", \"Elizabeth Cox\", \"Emma Bryce\",\n",
    "                 \"Daniel Finkel\", \"Juan Enriquez\"]\n",
    "\n",
    "author_agg = dict()\n",
    "\n",
    "for author in top_8_autoren:\n",
    "    mask = df[\"author\"] == author\n",
    "    author_agg[author] = df[mask][\"views\"].mean().__round__()\n",
    "author_agg\n",
    "\n",
    "df_top8_views = pd.DataFrame(list(author_agg.items()),\n",
    "                      columns=[\"Autor\", \"Durchschnittliche Views\"])\n",
    "df_top8_views\n",
    "\n",
    "rng = book.sheets[\"Autoren Views\"].range(\"A12\")\n",
    "#Tab 6 mit Liste befüllen\n",
    "sheet6[\"A1\"].value = df_top8_views\n",
    "#Grafik hinzufügen\n",
    "#https://docs.xlwings.org/en/stable/api.html#xlwings.main.Pictures.add\n",
    "sheet6.pictures.add(r\"/Users/marenabele/Desktop/Data-Storytelling_2.0/Data/Grafiken/Autoren_Views.png\", top=rng.top, left=rng.left)"
   ]
  },
  {
   "cell_type": "markdown",
   "metadata": {},
   "source": [
    "##### 7. Tab Talks nach Likes"
   ]
  },
  {
   "cell_type": "code",
   "execution_count": 37,
   "metadata": {},
   "outputs": [],
   "source": [
    "df_video_likes_max = df.sort_values(\"likes\", ascending = False)\n",
    "\n",
    "#Tab 7 mit sortieretem Datensatz füllen\n",
    "sheet7[\"A1\"].value = df_video_likes_max"
   ]
  },
  {
   "cell_type": "markdown",
   "metadata": {},
   "source": [
    "##### 8. Tab Talks nach Views"
   ]
  },
  {
   "cell_type": "code",
   "execution_count": 39,
   "metadata": {},
   "outputs": [],
   "source": [
    "df_video_views_max = df.sort_values(\"views\", ascending = False)\n",
    "\n",
    "#Tab 8 mit sortiertem Datensatz füllen\n",
    "sheet8[\"A1\"].value = df_video_views_max"
   ]
  },
  {
   "cell_type": "markdown",
   "metadata": {},
   "source": [
    "##### 9. Tab Keywords"
   ]
  },
  {
   "cell_type": "code",
   "execution_count": 31,
   "metadata": {},
   "outputs": [
    {
     "data": {
      "text/plain": [
       "<Picture 'Picture 2' in <Sheet [Excel_Export.xlsx]Keywords>>"
      ]
     },
     "execution_count": 31,
     "metadata": {},
     "output_type": "execute_result"
    }
   ],
   "source": [
    "import spacy as spacy\n",
    "from collections import Counter\n",
    "\n",
    "df_title = df[\"title\"]\n",
    "\n",
    "from spacy.lang.en.examples import sentences\n",
    "nlp = spacy.load(\"en_core_web_md\")\n",
    "spacy_stopwords = spacy.lang.en.stop_words.STOP_WORDS\n",
    "import re\n",
    "\n",
    "df[\"txt\"] = [nlp(text) for text in df.title]\n",
    "\n",
    "#Wie viele Wörter haben alle Titel zusammen\n",
    "all_words = []\n",
    "for text in df.txt:\n",
    "    wordrow = [word.text for word in text]\n",
    "    all_words.extend(wordrow)\n",
    "\n",
    "word_freq = Counter(all_words)\n",
    "\n",
    "common_words = word_freq.most_common(50)\n",
    "\n",
    "#Wir wollen häufig vorkommende Wörter, die nichts über den Sinn aussagen, wie \"the\", \"a\" oder Satzzeichen rausstreichen\n",
    "#Text säubern von Sonderzeichen, Satzzeichen und Emojis\n",
    "def clean_text(text):\n",
    "    if isinstance((text), (str)):\n",
    "        text = re.sub('<[^>]*>', '', text)\n",
    "        text = re.sub('[\\d]+', '', text.lower())\n",
    "        text = re.sub('\"', '', text.lower())\n",
    "        text = re.sub('\\[.*?\\]', '', text)\n",
    "        text = re.sub('https?://\\S+|www\\.\\S+', '', text)\n",
    "        text = re.sub('<.*?>+', '', text)\n",
    "        text = re.sub('\\n', '', text)\n",
    "        text = re.sub('\\w*\\d\\w*', '', text)\n",
    "        text = re.sub('\\'','', text)\n",
    "        return text\n",
    "    if isinstance((text), (list)):\n",
    "        return_list = []\n",
    "        for i in range(len(text)):\n",
    "            temp_text = re.sub('<[^>]*>', '', text[i])\n",
    "            temp_text = re.sub('[\\d]+', '', temp_text.lower())\n",
    "            temp_text = re.sub('\"', '', temp_text.lower())\n",
    "            temp_text = re.sub('\\[.*?\\]', '', temp_text)\n",
    "            temp_text = re.sub('https?://\\S+|www\\.\\S+', '', temp_text)\n",
    "            temp_text = re.sub('<.*?>+', '', temp_text)\n",
    "            temp_text = re.sub('\\n', '', temp_text)\n",
    "            temp_text = re.sub('\\w*\\d\\w*', '', temp_text)\n",
    "            temp_text = re.sub('\\'','', temp_text)\n",
    "            return_list.append(temp_text)\n",
    "        return(return_list)\n",
    "    else:\n",
    "        pass\n",
    "\n",
    "#Füllwörter entfernen\n",
    "def remove_stopwords(text):\n",
    "    wordrow = [word for word in text if word.is_stop != True and word.is_punct != True]\n",
    "    return wordrow\n",
    "\n",
    "# Wörter zählen, die zurück gegeben werden\n",
    "def wordcounter(text):\n",
    "    freq = len(text)\n",
    "    return freq\n",
    "\n",
    "#Dem Datensatz werden neue Spalten hinzugefügt. Die gefilterten Wörter, die Wörter als Keywords, wie viele Wörter es gesäubert sind und wie viele Wörter gestrichen wurden.\n",
    "df[\"keywords\"] = df['title'].apply(lambda x : clean_text(x))\n",
    "df[\"keywords\"] = [nlp(text) for text in df.keywords]\n",
    "\n",
    "df[\"keywords\"] = df[\"keywords\"].apply(lambda x : remove_stopwords(x))\n",
    "df['word_numb_orig'] = df['txt'].apply(lambda x : wordcounter(x))\n",
    "df['word_numb_cleaned'] = df[\"keywords\"].apply(lambda x : wordcounter(x))\n",
    "\n",
    "#Alle Wörter angezeigt bekommen\n",
    "#Wie viele Wörter, die nur min. 1x vorkommen es gibt\n",
    "#Welche die meist vorkommenden Wörter sind. \n",
    "all_words = []\n",
    "for text in df.keywords:\n",
    "    wordrow = [word.text for word in text if word.is_stop != True and word.is_punct != True and word.text != ' ']\n",
    "    all_words.extend(wordrow)\n",
    "\n",
    "# word count\n",
    "word_freq = Counter(all_words)\n",
    "\n",
    "word_count_clean = len(all_words)\n",
    "unique_words_clean = len(word_freq)\n",
    "common_words = word_freq.most_common()\n",
    "\n",
    "#Tab 9 füllen\n",
    "sheet9[\"A1\"].value = common_words\n",
    "\n",
    "rng = book.sheets[\"Keywords\"].range(\"D5\")\n",
    "#Grafik hinzufügen\n",
    "#https://docs.xlwings.org/en/stable/api.html#xlwings.main.Pictures.add\n",
    "sheet9.pictures.add(r\"/Users/marenabele/Desktop/Data-Storytelling_2.0/Data/Grafiken/wordcloud.png\", top=rng.top, left=rng.left)"
   ]
  },
  {
   "cell_type": "markdown",
   "metadata": {},
   "source": [
    "##### Quellen:\n",
    "* [https://docs.xlwings.org/en/stable/api.html#xlwings.main.Pictures.add](https://docs.xlwings.org/en/stable/api.html#xlwings.main.Pictures.add)\n",
    "* [https://www.youtube.com/watch?v=5iyL9tMw8vA](https://www.youtube.com/watch?v=5iyL9tMw8vA)"
   ]
  }
 ],
 "metadata": {
  "kernelspec": {
   "display_name": "Python 3.9.7 ('data-storytelling')",
   "language": "python",
   "name": "python3"
  },
  "language_info": {
   "codemirror_mode": {
    "name": "ipython",
    "version": 3
   },
   "file_extension": ".py",
   "mimetype": "text/x-python",
   "name": "python",
   "nbconvert_exporter": "python",
   "pygments_lexer": "ipython3",
   "version": "3.9.7"
  },
  "orig_nbformat": 4,
  "vscode": {
   "interpreter": {
    "hash": "a4cdc0e257683005a9d8b36a8a403e756a8b86fc086352c8beaa713fd074d488"
   }
  }
 },
 "nbformat": 4,
 "nbformat_minor": 2
}
