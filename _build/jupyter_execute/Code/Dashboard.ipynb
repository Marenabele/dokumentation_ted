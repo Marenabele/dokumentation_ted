{
 "cells": [
  {
   "cell_type": "markdown",
   "metadata": {},
   "source": [
    "### Hier Dokumentiert, was in den einzelnen Schritten gemacht wird. \n",
    "Die restliche Dokumentation wird über Kommentare in den Codeblöcken gemacht. "
   ]
  },
  {
   "cell_type": "code",
   "execution_count": 1,
   "metadata": {},
   "outputs": [
    {
     "ename": "ModuleNotFoundError",
     "evalue": "No module named 'pandas'",
     "output_type": "error",
     "traceback": [
      "\u001b[0;31m---------------------------------------------------------------------------\u001b[0m",
      "\u001b[0;31mModuleNotFoundError\u001b[0m                       Traceback (most recent call last)",
      "\u001b[0;32m/var/folders/tv/6mgdbxz10v1gpyb8f0k66_mw0000gn/T/ipykernel_7699/1567688776.py\u001b[0m in \u001b[0;36m<module>\u001b[0;34m\u001b[0m\n\u001b[1;32m      1\u001b[0m \u001b[0;31m#Die Libraries die gebraucht werden, werden importiert.\u001b[0m\u001b[0;34m\u001b[0m\u001b[0;34m\u001b[0m\u001b[0;34m\u001b[0m\u001b[0m\n\u001b[0;32m----> 2\u001b[0;31m \u001b[0;32mimport\u001b[0m \u001b[0mpandas\u001b[0m \u001b[0;32mas\u001b[0m \u001b[0mpd\u001b[0m\u001b[0;34m\u001b[0m\u001b[0;34m\u001b[0m\u001b[0m\n\u001b[0m\u001b[1;32m      3\u001b[0m \u001b[0;32mimport\u001b[0m \u001b[0mnumpy\u001b[0m \u001b[0;32mas\u001b[0m \u001b[0mnp\u001b[0m\u001b[0;34m\u001b[0m\u001b[0;34m\u001b[0m\u001b[0m\n\u001b[1;32m      4\u001b[0m \u001b[0;32mimport\u001b[0m \u001b[0mmatplotlib\u001b[0m\u001b[0;34m.\u001b[0m\u001b[0mpyplot\u001b[0m \u001b[0;32mas\u001b[0m \u001b[0mplt\u001b[0m\u001b[0;34m\u001b[0m\u001b[0;34m\u001b[0m\u001b[0m\n\u001b[1;32m      5\u001b[0m \u001b[0;32mimport\u001b[0m \u001b[0mspacy\u001b[0m \u001b[0;32mas\u001b[0m \u001b[0mspacy\u001b[0m\u001b[0;34m\u001b[0m\u001b[0;34m\u001b[0m\u001b[0m\n",
      "\u001b[0;31mModuleNotFoundError\u001b[0m: No module named 'pandas'"
     ]
    }
   ],
   "source": [
    "#Die Libraries die gebraucht werden, werden importiert.\n",
    "import pandas as pd\n",
    "import numpy as np\n",
    "import matplotlib.pyplot as plt\n",
    "import spacy as spacy\n",
    "from collections import Counter\n",
    "#Der Datensatz wird als Variable df aus der CSV importiert. \n",
    "#In diesem Datensatz werden die Inhalte mit einem Kommata getrennt. \n",
    "df = pd.read_csv(\"/Users/marenabele/Desktop/Data-Storytelling_2.0/Data/ted-talks.csv\", sep =\",\")\n",
    "df\n",
    "\n",
    "#https://dash.plotly.com/dash-core-components/dropdown"
   ]
  },
  {
   "cell_type": "code",
   "execution_count": 3,
   "metadata": {},
   "outputs": [],
   "source": [
    "#Wie viele Autoren gibt es?\n",
    "count_authors = df[\"author\"].nunique()\n",
    "\n",
    "#Welche sind die Top Autoren?\n",
    "#df.value_counts(\"author\", ascending = False).to_frame()\n",
    "#wurde ausgeklammert, da ich es nun als Variable speichere. Um es zu Stylen muss die Variable \n",
    "#als Dataset gespeichert werden, deswegen wird die Serie mit .to_frame umgewandelt.\n",
    "\n",
    "df_common_author = df.value_counts(\"author\", ascending = False).to_frame(name=\"Anzahl der Videos\")"
   ]
  },
  {
   "cell_type": "code",
   "execution_count": 5,
   "metadata": {},
   "outputs": [
    {
     "data": {
      "text/html": [
       "<div>\n",
       "<style scoped>\n",
       "    .dataframe tbody tr th:only-of-type {\n",
       "        vertical-align: middle;\n",
       "    }\n",
       "\n",
       "    .dataframe tbody tr th {\n",
       "        vertical-align: top;\n",
       "    }\n",
       "\n",
       "    .dataframe thead th {\n",
       "        text-align: right;\n",
       "    }\n",
       "</style>\n",
       "<table border=\"1\" class=\"dataframe\">\n",
       "  <thead>\n",
       "    <tr style=\"text-align: right;\">\n",
       "      <th></th>\n",
       "      <th>Autor</th>\n",
       "      <th>Durchschnittliche Likes</th>\n",
       "    </tr>\n",
       "  </thead>\n",
       "  <tbody>\n",
       "    <tr>\n",
       "      <th>0</th>\n",
       "      <td>Alex Gendler</td>\n",
       "      <td>126467</td>\n",
       "    </tr>\n",
       "    <tr>\n",
       "      <th>1</th>\n",
       "      <td>Iseult Gillespie</td>\n",
       "      <td>50330</td>\n",
       "    </tr>\n",
       "    <tr>\n",
       "      <th>2</th>\n",
       "      <td>Matt Walker</td>\n",
       "      <td>46528</td>\n",
       "    </tr>\n",
       "    <tr>\n",
       "      <th>3</th>\n",
       "      <td>Alex Rosenthal</td>\n",
       "      <td>28940</td>\n",
       "    </tr>\n",
       "    <tr>\n",
       "      <th>4</th>\n",
       "      <td>Elizabeth Cox</td>\n",
       "      <td>60000</td>\n",
       "    </tr>\n",
       "    <tr>\n",
       "      <th>5</th>\n",
       "      <td>Emma Bryce</td>\n",
       "      <td>82417</td>\n",
       "    </tr>\n",
       "    <tr>\n",
       "      <th>6</th>\n",
       "      <td>Daniel Finkel</td>\n",
       "      <td>78364</td>\n",
       "    </tr>\n",
       "    <tr>\n",
       "      <th>7</th>\n",
       "      <td>Juan Enriquez</td>\n",
       "      <td>57500</td>\n",
       "    </tr>\n",
       "  </tbody>\n",
       "</table>\n",
       "</div>"
      ],
      "text/plain": [
       "              Autor  Durchschnittliche Likes\n",
       "0      Alex Gendler                   126467\n",
       "1  Iseult Gillespie                    50330\n",
       "2       Matt Walker                    46528\n",
       "3    Alex Rosenthal                    28940\n",
       "4     Elizabeth Cox                    60000\n",
       "5        Emma Bryce                    82417\n",
       "6     Daniel Finkel                    78364\n",
       "7     Juan Enriquez                    57500"
      ]
     },
     "execution_count": 5,
     "metadata": {},
     "output_type": "execute_result"
    }
   ],
   "source": [
    "#TOP 8 Autoren durchschnittliche Likes\n",
    "mask = (df[\"author\"] == \"Alex Gendler\") | (df[\"author\"] == \"Iseult Gillespie\") | (df[\"author\"] == \"Matt Walker\t\") | (df[\"author\"] == \"Alex Rosenthal\") | (df[\"author\"] == \"Elizabeth Cox\") | (df[\"author\"] == \"Emma Bryce\") | (df[\"author\"] == \"Daniel Finkel\") | (df[\"author\"] == \"Juan Enriquez\") \n",
    "df_author_likes = df[mask]\n",
    "\n",
    "top_8_autoren = [\"Alex Gendler\", \"Iseult Gillespie\", \"Matt Walker\", \"Alex Rosenthal\", \"Elizabeth Cox\", \"Emma Bryce\",\n",
    "                 \"Daniel Finkel\", \"Juan Enriquez\"]\n",
    "\n",
    "author_agg = dict()\n",
    "\n",
    "for author in top_8_autoren:\n",
    "    mask = df[\"author\"] == author\n",
    "    author_agg[author] = df[mask][\"likes\"].mean().__round__()\n",
    "author_agg\n",
    "\n",
    "#https://stackoverflow.com/questions/20340844/pandas-create-named-columns-in-dataframe-from-dict\n",
    "\n",
    "df_top8_likes = pd.DataFrame(list(author_agg.items()),\n",
    "                      columns=[\"Autor\", \"Durchschnittliche Likes\"])\n",
    "\n",
    "#df_top8_likes = pd.DataFrame.from_dict(author_agg, orient=\"index\")\n",
    "df_top8_likes"
   ]
  },
  {
   "cell_type": "code",
   "execution_count": 16,
   "metadata": {},
   "outputs": [
    {
     "data": {
      "text/html": [
       "\n",
       "<iframe\n",
       "    width=\"100%\"\n",
       "    height=\"650\"\n",
       "    src=\"http://127.0.0.1:8050/\"\n",
       "    frameborder=\"0\"\n",
       "    allowfullscreen\n",
       "\n",
       "></iframe>\n"
      ],
      "text/plain": [
       "<IPython.lib.display.IFrame at 0x7fb4526bbee0>"
      ]
     },
     "metadata": {},
     "output_type": "display_data"
    },
    {
     "name": "stdout",
     "output_type": "stream",
     "text": [
      "Alex Gendler\n",
      "Alex Gendler\n"
     ]
    }
   ],
   "source": [
    "#https://medium.com/plotly/introducing-jupyterdash-811f1f57c02e\n",
    "#https://blog.finxter.com Cheat Sheet zu Dash\n",
    "import dash_table\n",
    "import plotly.express as px\n",
    "from jupyter_dash import JupyterDash\n",
    "import dash_core_components as dcc\n",
    "import dash_html_components as html\n",
    "from dash.dependencies import Input, Output\n",
    "\n",
    "#JupyterDash damit die Ausgabe auch schon in VisualCode angezeigt werden kann.\n",
    "#Starten der App\n",
    "app = JupyterDash(__name__)\n",
    "\n",
    "#Gibt das Layout der App an. Bzw. welche Komponenten enthalten sein sollen.\n",
    "app.layout = html.Div([\n",
    "    html.H1(\"TED Talk Explorer\"),\n",
    "    dcc.Dropdown(options=top_8_autoren, value=\"Alex Gendler\", id=\"dropdown\", multi=True),\n",
    "    dcc.Graph(id=\"graph\"),\n",
    "    html.Div(id=\"table\")\n",
    "])\n",
    "\n",
    "#Für Interaktivitäten des Users\n",
    "#Verbindet die Dash Komponenten mit Grafiken\n",
    "#Gibt an, wie die Komponenten mit den Grafiken interagieren.\n",
    "#Werden aufgerufen, wenn ein Input sich ändert\n",
    "#Output und Input werden festgelegt\n",
    "@app.callback(\n",
    "    Output('table', 'children'),\n",
    "    [Input(\"dropdown\", \"value\")]\n",
    ")\n",
    "#Updaten des Tables je nach Input-Auswahl\n",
    "def update_table(dropdown):\n",
    "    if isinstance(dropdown, str):\n",
    "        dropdown = [dropdown]\n",
    "    mask = [a in dropdown for a in df[\"author\"]]\n",
    "    df_table = df[mask]\n",
    "    return dash_table.DataTable(df_table.to_dict(\"records\"), [{\"name\": i, \"id\": i} for i in df_table.columns])\n",
    "\n",
    "\n",
    "#Update callback zum Updaten der Grafik\n",
    "@app.callback(\n",
    "    Output('graph', 'figure'),\n",
    "    [Input(\"dropdown\", \"value\")]\n",
    ")\n",
    "def update_figure(dropdown):\n",
    "    print(dropdown)\n",
    "    return px.bar(df_top8_likes, x=\"Durchschnittliche Likes\", y=\"Autor\")\n",
    "#Ausführen der App und Anzeigen der resultate\n",
    "app.run_server(mode= \"inline\")"
   ]
  }
 ],
 "metadata": {
  "kernelspec": {
   "display_name": "Python 3.9.7 ('data-storytelling')",
   "language": "python",
   "name": "python3"
  },
  "language_info": {
   "codemirror_mode": {
    "name": "ipython",
    "version": 3
   },
   "file_extension": ".py",
   "mimetype": "text/x-python",
   "name": "python",
   "nbconvert_exporter": "python",
   "pygments_lexer": "ipython3",
   "version": "3.7.11"
  },
  "vscode": {
   "interpreter": {
    "hash": "a4cdc0e257683005a9d8b36a8a403e756a8b86fc086352c8beaa713fd074d488"
   }
  }
 },
 "nbformat": 4,
 "nbformat_minor": 2
}