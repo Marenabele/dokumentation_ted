{
 "cells": [
  {
   "cell_type": "markdown",
   "metadata": {},
   "source": [
    "### Hier Dokumentiert, was in den einzelnen Schritten gemacht wird. \n",
    "Die restliche Dokumentation wird über Kommentare in den Codeblöcken gemacht. \n",
    "Die Codes der Analyse werden aus der \"Ted-Talks.ipynb-Datei\" kopiert"
   ]
  },
  {
   "cell_type": "code",
   "execution_count": 1,
   "metadata": {},
   "outputs": [
    {
     "ename": "ModuleNotFoundError",
     "evalue": "No module named 'pandas'",
     "output_type": "error",
     "traceback": [
      "\u001b[0;31m---------------------------------------------------------------------------\u001b[0m",
      "\u001b[0;31mModuleNotFoundError\u001b[0m                       Traceback (most recent call last)",
      "\u001b[0;32m/var/folders/tv/6mgdbxz10v1gpyb8f0k66_mw0000gn/T/ipykernel_7706/4007980141.py\u001b[0m in \u001b[0;36m<module>\u001b[0;34m\u001b[0m\n\u001b[1;32m      1\u001b[0m \u001b[0;31m#Die Libraries die gebraucht werden, werden importiert.\u001b[0m\u001b[0;34m\u001b[0m\u001b[0;34m\u001b[0m\u001b[0;34m\u001b[0m\u001b[0m\n\u001b[0;32m----> 2\u001b[0;31m \u001b[0;32mimport\u001b[0m \u001b[0mpandas\u001b[0m \u001b[0;32mas\u001b[0m \u001b[0mpd\u001b[0m\u001b[0;34m\u001b[0m\u001b[0;34m\u001b[0m\u001b[0m\n\u001b[0m\u001b[1;32m      3\u001b[0m \u001b[0;32mimport\u001b[0m \u001b[0mnumpy\u001b[0m \u001b[0;32mas\u001b[0m \u001b[0mnp\u001b[0m\u001b[0;34m\u001b[0m\u001b[0;34m\u001b[0m\u001b[0m\n\u001b[1;32m      4\u001b[0m \u001b[0;32mimport\u001b[0m \u001b[0mmatplotlib\u001b[0m\u001b[0;34m.\u001b[0m\u001b[0mpyplot\u001b[0m \u001b[0;32mas\u001b[0m \u001b[0mplt\u001b[0m\u001b[0;34m\u001b[0m\u001b[0;34m\u001b[0m\u001b[0m\n\u001b[1;32m      5\u001b[0m \u001b[0;32mimport\u001b[0m \u001b[0mspacy\u001b[0m \u001b[0;32mas\u001b[0m \u001b[0mspacy\u001b[0m\u001b[0;34m\u001b[0m\u001b[0;34m\u001b[0m\u001b[0m\n",
      "\u001b[0;31mModuleNotFoundError\u001b[0m: No module named 'pandas'"
     ]
    }
   ],
   "source": [
    "#Die Libraries die gebraucht werden, werden importiert.\n",
    "import pandas as pd\n",
    "import numpy as np\n",
    "import matplotlib.pyplot as plt\n",
    "import spacy as spacy\n",
    "from collections import Counter\n",
    "import xlwings as xw\n",
    "from xlwings import Picture\n",
    "#Der Datensatz wird als Variable df aus der CSV importiert. \n",
    "#In diesem Datensatz werden die Inhalte mit einem Kommata getrennt. \n",
    "df = pd.read_csv(\"/Users/marenabele/Desktop/Data-Storytelling_2.0/Data/ted-talks.csv\", sep =\",\")\n",
    "df"
   ]
  },
  {
   "cell_type": "markdown",
   "metadata": {},
   "source": [
    "##### Erster Tab mit dem origianelen Dataframe"
   ]
  },
  {
   "cell_type": "code",
   "execution_count": 4,
   "metadata": {},
   "outputs": [],
   "source": [
    "#Neue Excel-Datei erstellen \n",
    "#Datei Speichern \n",
    "#book.save(\"/Users/marenabele/Desktop/Data-Storytelling_2.0/Data/Excel_Export.xlsx\")\n",
    "\n",
    "book = xw.Book(\"Excel_Export.xlsx\")\n",
    "\n",
    "#Neuen Tabs in der Datei erstellen. Zugriff auf die Tabs via Namen\n",
    "sheet1 = book.sheets[\"Kompletter Datensatz\"]\n",
    "sheet2 = book.sheets[\"Häufigkeit Autoren\"]\n",
    "sheet3 = book.sheets[\"Häufigkeit Jahre\"]\n",
    "sheet4 = book.sheets[\"Häufigkeit Monat und Jahr\"]\n",
    "sheet5 = book.sheets[\"Autoren Likes\"]\n",
    "sheet6 = book.sheets[\"Autoren Views\"]\n",
    "sheet7 = book.sheets[\"Talks nach Likes\"]\n",
    "sheet8 = book.sheets[\"Talks nach View\"]\n",
    "sheet9 = book.sheets[\"Keywords\"]\n",
    "\n",
    "#Allgemeinen Datensatz importieren\n",
    "df_start = pd.read_csv(\"/Users/marenabele/Desktop/Data-Storytelling_2.0/Data/ted-talks.csv\", sep =\",\")\n",
    "df_start\n",
    "\n",
    "#Tab eins mit dem allgemeinen Datensatz füllen\n",
    "sheet1[\"A1\"].value = df_start\n"
   ]
  },
  {
   "cell_type": "markdown",
   "metadata": {},
   "source": [
    "##### 2. Tab mit der Häufigkeiten der Autoren"
   ]
  },
  {
   "cell_type": "code",
   "execution_count": 5,
   "metadata": {},
   "outputs": [],
   "source": [
    "df_common_author = df.value_counts(\"author\", ascending = False).to_frame(name=\"Anzahl der Videos\")\n",
    "\n",
    "#Tab 2 mit der Liste an Autren füllen\n",
    "sheet2[\"A1\"].value = df_common_author"
   ]
  },
  {
   "cell_type": "markdown",
   "metadata": {},
   "source": [
    "##### 3. Tab mit den Videos pro Jahr"
   ]
  },
  {
   "cell_type": "code",
   "execution_count": 15,
   "metadata": {},
   "outputs": [
    {
     "data": {
      "text/plain": [
       "<Picture 'Picture 6' in <Sheet [Excel_Export.xlsx]Häufigkeit Jahre>>"
      ]
     },
     "execution_count": 15,
     "metadata": {},
     "output_type": "execute_result"
    }
   ],
   "source": [
    "#Datums-Spalte konvertieren und die Jahre zählen\n",
    "from datetime import datetime, timedelta\n",
    "df[\"date\"] = pd.to_datetime(df[\"date\"])\n",
    "\n",
    "df[\"year\"]= df[\"date\"].dt.year\n",
    "df[\"month\"]= df[\"date\"].dt.month\n",
    "\n",
    "df_year = df\n",
    "\n",
    "df_count_years = df_year.value_counts(\"year\", ascending = False).to_frame(name= \"Videos pro Jahr\")\n",
    "\n",
    "#Tab 3 mit der Liste an Jahren und Häufigkeiten füllen\n",
    "sheet3[\"A1\"].value = df_count_years\n",
    "\n",
    "#Grafik hinzufügen\n",
    "#https://docs.xlwings.org/en/stable/api.html#xlwings.main.Pictures.add\n",
    "sheet3.pictures.add(r\"/Users/marenabele/Desktop/Data-Storytelling_2.0/Data/Grafiken/Verteilung_allerVideos.png\", top=rng.top, left=rng.left)\n",
    "\n"
   ]
  },
  {
   "cell_type": "markdown",
   "metadata": {},
   "source": [
    "##### 4. Tab mit den Videos pro Monat und Jahr"
   ]
  },
  {
   "cell_type": "code",
   "execution_count": 23,
   "metadata": {},
   "outputs": [
    {
     "data": {
      "text/plain": [
       "<Picture 'Picture 56' in <Sheet [Excel_Export.xlsx]Häufigkeit Monat und Jahr>>"
      ]
     },
     "execution_count": 23,
     "metadata": {},
     "output_type": "execute_result"
    }
   ],
   "source": [
    "#Zählen der Monate und Jahre\n",
    "df_count_month_and_year = df.value_counts(\"date\", ascending = False).to_frame(name=\"Anzahl der Videos\")\n",
    "\n",
    "#Grafik hinzufügen\n",
    "#https://docs.xlwings.org/en/stable/api.html#xlwings.main.Pictures.add\n",
    "rng = book.sheets[\"Häufigkeit Monat und Jahr\"].range(\"A204\")\n",
    "\n",
    "#Tab 4 mit der Liste füllen und die Grafiken ergänzen\n",
    "sheet4[\"A1\"].value = df_count_month_and_year\n",
    "sheet4.pictures.add(r\"/Users/marenabele/Desktop/Data-Storytelling_2.0/Data/Grafiken/2017_Monate.png\", top=rng.top, left=rng.left)\n",
    "\n",
    "rng= book.sheets[\"Häufigkeit Monat und Jahr\"].range(\"G204\")\n",
    "sheet4.pictures.add(r\"/Users/marenabele/Desktop/Data-Storytelling_2.0/Data/Grafiken/Monat_2018.png\", top=rng.top, left=rng.left)\n",
    "rng= book.sheets[\"Häufigkeit Monat und Jahr\"].range(\"A217\")\n",
    "sheet4.pictures.add(r\"/Users/marenabele/Desktop/Data-Storytelling_2.0/Data/Grafiken/Monat_2019.png\", top=rng.top, left=rng.left)\n",
    "rng= book.sheets[\"Häufigkeit Monat und Jahr\"].range(\"G217\")\n",
    "sheet4.pictures.add(r\"/Users/marenabele/Desktop/Data-Storytelling_2.0/Data/Grafiken/Monat_2020.png\", top=rng.top, left=rng.left)\n",
    "rng= book.sheets[\"Häufigkeit Monat und Jahr\"].range(\"A230\")\n",
    "sheet4.pictures.add(r\"/Users/marenabele/Desktop/Data-Storytelling_2.0/Data/Grafiken/Monat_2021.png\", top=rng.top, left=rng.left)\n"
   ]
  },
  {
   "cell_type": "markdown",
   "metadata": {},
   "source": [
    "##### 5. Tab 8 Häufigsten Autoren und die durchschnittlichen Likes"
   ]
  },
  {
   "cell_type": "code",
   "execution_count": 29,
   "metadata": {},
   "outputs": [
    {
     "data": {
      "text/plain": [
       "<Picture 'Picture 2' in <Sheet [Excel_Export.xlsx]Autoren Likes>>"
      ]
     },
     "execution_count": 29,
     "metadata": {},
     "output_type": "execute_result"
    }
   ],
   "source": [
    "mask = (df[\"author\"] == \"Alex Gendler\") | (df[\"author\"] == \"Iseult Gillespie\") | (df[\"author\"] == \"Matt Walker\t\") | (df[\"author\"] == \"Alex Rosenthal\") | (df[\"author\"] == \"Elizabeth Cox\") | (df[\"author\"] == \"Emma Bryce\") | (df[\"author\"] == \"Daniel Finkel\") | (df[\"author\"] == \"Juan Enriquez\") \n",
    "df_author_likes = df[mask]\n",
    "\n",
    "top_8_autoren = [\"Alex Gendler\", \"Iseult Gillespie\", \"Matt Walker\", \"Alex Rosenthal\", \"Elizabeth Cox\", \"Emma Bryce\",\n",
    "                 \"Daniel Finkel\", \"Juan Enriquez\"]\n",
    "\n",
    "author_agg = dict()\n",
    "\n",
    "for author in top_8_autoren:\n",
    "    mask = df[\"author\"] == author\n",
    "    author_agg[author] = df[mask][\"likes\"].mean().__round__()\n",
    "author_agg\n",
    "\n",
    "#https://stackoverflow.com/questions/20340844/pandas-create-named-columns-in-dataframe-from-dict\n",
    "\n",
    "df_top8_likes = pd.DataFrame(list(author_agg.items()),\n",
    "                      columns=[\"Autor\", \"Durchschnittliche Likes\"])\n",
    "\n",
    "#df_top8_likes = pd.DataFrame.from_dict(author_agg, orient=\"index\")\n",
    "df_top8_likes\n",
    "\n",
    "rng = book.sheets[\"Autoren Likes\"].range(\"A12\")\n",
    "#Tab 5 mit Liste füllen\n",
    "sheet5[\"A1\"].value = df_top8_likes\n",
    "\n",
    "#Grafik hinzufügen\n",
    "#https://docs.xlwings.org/en/stable/api.html#xlwings.main.Pictures.add\n",
    "sheet5.pictures.add(r\"/Users/marenabele/Desktop/Data-Storytelling_2.0/Data/Grafiken/Autoren_Likes.png\", top=rng.top, left=rng.left)\n"
   ]
  },
  {
   "cell_type": "markdown",
   "metadata": {},
   "source": [
    "##### 6. Tab 8 Häufigsten Autoren und die durchschnittlichen Views"
   ]
  },
  {
   "cell_type": "code",
   "execution_count": 30,
   "metadata": {},
   "outputs": [
    {
     "data": {
      "text/plain": [
       "<Picture 'Picture 2' in <Sheet [Excel_Export.xlsx]Autoren Views>>"
      ]
     },
     "execution_count": 30,
     "metadata": {},
     "output_type": "execute_result"
    }
   ],
   "source": [
    "mask = (df[\"author\"] == \"Alex Gendler\") | (df[\"author\"] == \"Iseult Gillespie\") | (df[\"author\"] == \"Matt Walker\t\") | (df[\"author\"] == \"Alex Rosenthal\") | (df[\"author\"] == \"Elizabeth Cox\") | (df[\"author\"] == \"Emma Bryce\") | (df[\"author\"] == \"Daniel Finkel\") | (df[\"author\"] == \"Juan Enriquez\") \n",
    "df_author_views = df[mask]\n",
    "\n",
    "top_8_autoren = [\"Alex Gendler\", \"Iseult Gillespie\", \"Matt Walker\", \"Alex Rosenthal\", \"Elizabeth Cox\", \"Emma Bryce\",\n",
    "                 \"Daniel Finkel\", \"Juan Enriquez\"]\n",
    "\n",
    "author_agg = dict()\n",
    "\n",
    "for author in top_8_autoren:\n",
    "    mask = df[\"author\"] == author\n",
    "    author_agg[author] = df[mask][\"views\"].mean().__round__()\n",
    "author_agg\n",
    "\n",
    "df_top8_views = pd.DataFrame(list(author_agg.items()),\n",
    "                      columns=[\"Autor\", \"Durchschnittliche Views\"])\n",
    "df_top8_views\n",
    "\n",
    "rng = book.sheets[\"Autoren Views\"].range(\"A12\")\n",
    "#Tab 6 mit Liste befüllen\n",
    "sheet6[\"A1\"].value = df_top8_views\n",
    "#Grafik hinzufügen\n",
    "#https://docs.xlwings.org/en/stable/api.html#xlwings.main.Pictures.add\n",
    "sheet6.pictures.add(r\"/Users/marenabele/Desktop/Data-Storytelling_2.0/Data/Grafiken/Autoren_Views.png\", top=rng.top, left=rng.left)"
   ]
  },
  {
   "cell_type": "markdown",
   "metadata": {},
   "source": [
    "##### 7. Tab Talks nach Likes"
   ]
  },
  {
   "cell_type": "code",
   "execution_count": 37,
   "metadata": {},
   "outputs": [],
   "source": [
    "df_video_likes_max = df.sort_values(\"likes\", ascending = False)\n",
    "\n",
    "#Tab 7 mit sortieretem Datensatz füllen\n",
    "sheet7[\"A1\"].value = df_video_likes_max"
   ]
  },
  {
   "cell_type": "markdown",
   "metadata": {},
   "source": [
    "##### 8. Tab Talks nach Views"
   ]
  },
  {
   "cell_type": "code",
   "execution_count": 39,
   "metadata": {},
   "outputs": [],
   "source": [
    "df_video_views_max = df.sort_values(\"views\", ascending = False)\n",
    "\n",
    "#Tab 8 mit sortiertem Datensatz füllen\n",
    "sheet8[\"A1\"].value = df_video_views_max"
   ]
  },
  {
   "cell_type": "markdown",
   "metadata": {},
   "source": [
    "##### 9. Tab Keywords"
   ]
  },
  {
   "cell_type": "code",
   "execution_count": 31,
   "metadata": {},
   "outputs": [
    {
     "data": {
      "text/plain": [
       "<Picture 'Picture 2' in <Sheet [Excel_Export.xlsx]Keywords>>"
      ]
     },
     "execution_count": 31,
     "metadata": {},
     "output_type": "execute_result"
    }
   ],
   "source": [
    "import spacy as spacy\n",
    "from collections import Counter\n",
    "\n",
    "df_title = df[\"title\"]\n",
    "\n",
    "from spacy.lang.en.examples import sentences\n",
    "nlp = spacy.load(\"en_core_web_md\")\n",
    "spacy_stopwords = spacy.lang.en.stop_words.STOP_WORDS\n",
    "import re\n",
    "\n",
    "df[\"txt\"] = [nlp(text) for text in df.title]\n",
    "\n",
    "#Wie viele Wörter haben alle Titel zusammen\n",
    "all_words = []\n",
    "for text in df.txt:\n",
    "    wordrow = [word.text for word in text]\n",
    "    all_words.extend(wordrow)\n",
    "\n",
    "word_freq = Counter(all_words)\n",
    "\n",
    "common_words = word_freq.most_common(50)\n",
    "\n",
    "#Wir wollen häufig vorkommende Wörter, die nichts über den Sinn aussagen, wie \"the\", \"a\" oder Satzzeichen rausstreichen\n",
    "#Text säubern von Sonderzeichen, Satzzeichen und Emojis\n",
    "def clean_text(text):\n",
    "    if isinstance((text), (str)):\n",
    "        text = re.sub('<[^>]*>', '', text)\n",
    "        text = re.sub('[\\d]+', '', text.lower())\n",
    "        text = re.sub('\"', '', text.lower())\n",
    "        text = re.sub('\\[.*?\\]', '', text)\n",
    "        text = re.sub('https?://\\S+|www\\.\\S+', '', text)\n",
    "        text = re.sub('<.*?>+', '', text)\n",
    "        text = re.sub('\\n', '', text)\n",
    "        text = re.sub('\\w*\\d\\w*', '', text)\n",
    "        text = re.sub('\\'','', text)\n",
    "        return text\n",
    "    if isinstance((text), (list)):\n",
    "        return_list = []\n",
    "        for i in range(len(text)):\n",
    "            temp_text = re.sub('<[^>]*>', '', text[i])\n",
    "            temp_text = re.sub('[\\d]+', '', temp_text.lower())\n",
    "            temp_text = re.sub('\"', '', temp_text.lower())\n",
    "            temp_text = re.sub('\\[.*?\\]', '', temp_text)\n",
    "            temp_text = re.sub('https?://\\S+|www\\.\\S+', '', temp_text)\n",
    "            temp_text = re.sub('<.*?>+', '', temp_text)\n",
    "            temp_text = re.sub('\\n', '', temp_text)\n",
    "            temp_text = re.sub('\\w*\\d\\w*', '', temp_text)\n",
    "            temp_text = re.sub('\\'','', temp_text)\n",
    "            return_list.append(temp_text)\n",
    "        return(return_list)\n",
    "    else:\n",
    "        pass\n",
    "\n",
    "#Füllwörter entfernen\n",
    "def remove_stopwords(text):\n",
    "    wordrow = [word for word in text if word.is_stop != True and word.is_punct != True]\n",
    "    return wordrow\n",
    "\n",
    "# Wörter zählen, die zurück gegeben werden\n",
    "def wordcounter(text):\n",
    "    freq = len(text)\n",
    "    return freq\n",
    "\n",
    "#Dem Datensatz werden neue Spalten hinzugefügt. Die gefilterten Wörter, die Wörter als Keywords, wie viele Wörter es gesäubert sind und wie viele Wörter gestrichen wurden.\n",
    "df[\"keywords\"] = df['title'].apply(lambda x : clean_text(x))\n",
    "df[\"keywords\"] = [nlp(text) for text in df.keywords]\n",
    "\n",
    "df[\"keywords\"] = df[\"keywords\"].apply(lambda x : remove_stopwords(x))\n",
    "df['word_numb_orig'] = df['txt'].apply(lambda x : wordcounter(x))\n",
    "df['word_numb_cleaned'] = df[\"keywords\"].apply(lambda x : wordcounter(x))\n",
    "\n",
    "#Alle Wörter angezeigt bekommen\n",
    "#Wie viele Wörter, die nur min. 1x vorkommen es gibt\n",
    "#Welche die meist vorkommenden Wörter sind. \n",
    "all_words = []\n",
    "for text in df.keywords:\n",
    "    wordrow = [word.text for word in text if word.is_stop != True and word.is_punct != True and word.text != ' ']\n",
    "    all_words.extend(wordrow)\n",
    "\n",
    "# word count\n",
    "word_freq = Counter(all_words)\n",
    "\n",
    "word_count_clean = len(all_words)\n",
    "unique_words_clean = len(word_freq)\n",
    "common_words = word_freq.most_common()\n",
    "\n",
    "#Tab 9 füllen\n",
    "sheet9[\"A1\"].value = common_words\n",
    "\n",
    "rng = book.sheets[\"Keywords\"].range(\"D5\")\n",
    "#Grafik hinzufügen\n",
    "#https://docs.xlwings.org/en/stable/api.html#xlwings.main.Pictures.add\n",
    "sheet9.pictures.add(r\"/Users/marenabele/Desktop/Data-Storytelling_2.0/Data/Grafiken/wordcloud.png\", top=rng.top, left=rng.left)"
   ]
  },
  {
   "cell_type": "markdown",
   "metadata": {},
   "source": [
    "##### Quellen:\n",
    "* [https://docs.xlwings.org/en/stable/api.html#xlwings.main.Pictures.add](https://docs.xlwings.org/en/stable/api.html#xlwings.main.Pictures.add)\n",
    "* [https://www.youtube.com/watch?v=5iyL9tMw8vA](https://www.youtube.com/watch?v=5iyL9tMw8vA)"
   ]
  }
 ],
 "metadata": {
  "kernelspec": {
   "display_name": "Python 3.9.7 ('data-storytelling')",
   "language": "python",
   "name": "python3"
  },
  "language_info": {
   "codemirror_mode": {
    "name": "ipython",
    "version": 3
   },
   "file_extension": ".py",
   "mimetype": "text/x-python",
   "name": "python",
   "nbconvert_exporter": "python",
   "pygments_lexer": "ipython3",
   "version": "3.7.11"
  },
  "vscode": {
   "interpreter": {
    "hash": "a4cdc0e257683005a9d8b36a8a403e756a8b86fc086352c8beaa713fd074d488"
   }
  }
 },
 "nbformat": 4,
 "nbformat_minor": 2
}